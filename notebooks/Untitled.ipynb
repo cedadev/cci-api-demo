{
 "cells": [
  {
   "cell_type": "code",
   "execution_count": null,
   "id": "f48fa06c-09bb-4d68-9377-1181b8f1118b",
   "metadata": {},
   "outputs": [],
   "source": [
    "# Opensearch Client"
   ]
  },
  {
   "cell_type": "code",
   "execution_count": 6,
   "id": "966ba309-904e-4558-bc8d-9f4b6eba9076",
   "metadata": {},
   "outputs": [
    {
     "name": "stdout",
     "output_type": "stream",
     "text": [
      "Collecting git+https://github.com/edsu/opensearch\n",
      "  Cloning https://github.com/edsu/opensearch to /private/var/folders/zd/xsmbyf8s3lq15q68mtdj33cxxqq6jg/T/pip-req-build-jwon10o0\n",
      "  Running command git clone -q https://github.com/edsu/opensearch /private/var/folders/zd/xsmbyf8s3lq15q68mtdj33cxxqq6jg/T/pip-req-build-jwon10o0\n",
      "Requirement already satisfied (use --upgrade to upgrade): opensearch==0.9.2 from git+https://github.com/edsu/opensearch in /Users/vdn73631/Documents/dev/cci-api-demo/venv/lib/python3.8/site-packages\n",
      "Using legacy setup.py install for opensearch, since package 'wheel' is not installed.\n",
      "\u001b[33mWARNING: You are using pip version 20.1.1; however, version 22.0.2 is available.\n",
      "You should consider upgrading via the '/Users/vdn73631/Documents/dev/cci-api-demo/venv/bin/python -m pip install --upgrade pip' command.\u001b[0m\n",
      "\u001b[31mERROR: Could not find a version that satisfies the requirement sgmllib (from versions: none)\u001b[0m\n",
      "\u001b[31mERROR: No matching distribution found for sgmllib\u001b[0m\n",
      "\u001b[33mWARNING: You are using pip version 20.1.1; however, version 22.0.2 is available.\n",
      "You should consider upgrading via the '/Users/vdn73631/Documents/dev/cci-api-demo/venv/bin/python -m pip install --upgrade pip' command.\u001b[0m\n"
     ]
    }
   ],
   "source": [
    "!pip install git+https://github.com/edsu/opensearch\n",
    "!pip install sgmllib"
   ]
  },
  {
   "cell_type": "code",
   "execution_count": 5,
   "id": "fc46f13a-1608-4e3e-8221-c0dd7b9be118",
   "metadata": {},
   "outputs": [
    {
     "ename": "ModuleNotFoundError",
     "evalue": "No module named 'sgmllib'",
     "output_type": "error",
     "traceback": [
      "\u001b[0;31m---------------------------------------------------------------------------\u001b[0m",
      "\u001b[0;31mModuleNotFoundError\u001b[0m                       Traceback (most recent call last)",
      "Input \u001b[0;32mIn [5]\u001b[0m, in \u001b[0;36m<module>\u001b[0;34m\u001b[0m\n\u001b[0;32m----> 1\u001b[0m \u001b[38;5;28;01mfrom\u001b[39;00m \u001b[38;5;21;01mopensearch\u001b[39;00m \u001b[38;5;28;01mimport\u001b[39;00m Client\n\u001b[1;32m      3\u001b[0m client \u001b[38;5;241m=\u001b[39m Client(\u001b[38;5;124m'\u001b[39m\u001b[38;5;124mhttps://archive.opensearch.ceda.ac.uk/opensearch/description.xml\u001b[39m\u001b[38;5;124m'\u001b[39m)\n",
      "File \u001b[0;32m~/Documents/dev/cci-api-demo/venv/lib/python3.8/site-packages/opensearch/__init__.py:3\u001b[0m, in \u001b[0;36m<module>\u001b[0;34m\u001b[0m\n\u001b[1;32m      1\u001b[0m \u001b[38;5;28;01mfrom\u001b[39;00m \u001b[38;5;21;01mdescription\u001b[39;00m \u001b[38;5;28;01mimport\u001b[39;00m Description\n\u001b[1;32m      2\u001b[0m \u001b[38;5;28;01mfrom\u001b[39;00m \u001b[38;5;21;01mquery\u001b[39;00m \u001b[38;5;28;01mimport\u001b[39;00m Query, Param\n\u001b[0;32m----> 3\u001b[0m \u001b[38;5;28;01mfrom\u001b[39;00m \u001b[38;5;21;01mclient\u001b[39;00m \u001b[38;5;28;01mimport\u001b[39;00m Client\n\u001b[1;32m      4\u001b[0m \u001b[38;5;28;01mfrom\u001b[39;00m \u001b[38;5;21;01mresults\u001b[39;00m \u001b[38;5;28;01mimport\u001b[39;00m Results\n",
      "File \u001b[0;32m~/Documents/dev/cci-api-demo/venv/lib/python3.8/site-packages/opensearch/client.py:3\u001b[0m, in \u001b[0;36m<module>\u001b[0;34m\u001b[0m\n\u001b[1;32m      1\u001b[0m \u001b[38;5;28;01mfrom\u001b[39;00m \u001b[38;5;21;01m.\u001b[39;00m\u001b[38;5;21;01mdescription\u001b[39;00m \u001b[38;5;28;01mimport\u001b[39;00m Description\n\u001b[1;32m      2\u001b[0m \u001b[38;5;28;01mfrom\u001b[39;00m \u001b[38;5;21;01m.\u001b[39;00m\u001b[38;5;21;01mquery\u001b[39;00m \u001b[38;5;28;01mimport\u001b[39;00m Query\n\u001b[0;32m----> 3\u001b[0m \u001b[38;5;28;01mfrom\u001b[39;00m \u001b[38;5;21;01m.\u001b[39;00m\u001b[38;5;21;01mresults\u001b[39;00m \u001b[38;5;28;01mimport\u001b[39;00m Results\n\u001b[1;32m      5\u001b[0m \u001b[38;5;28;01mclass\u001b[39;00m \u001b[38;5;21;01mClient\u001b[39;00m:\n\u001b[1;32m      7\u001b[0m     \u001b[38;5;124;03m\"\"\"This is the class you'll probably want to be using. You simply\u001b[39;00m\n\u001b[1;32m      8\u001b[0m \u001b[38;5;124;03m    pass the constructor the url for the service description file and\u001b[39;00m\n\u001b[1;32m      9\u001b[0m \u001b[38;5;124;03m    issue a search and get back results as an iterable Results object.\u001b[39;00m\n\u001b[0;32m   (...)\u001b[0m\n\u001b[1;32m     39\u001b[0m \u001b[38;5;124;03m    >>> results = client.search(\"computer\", ex__key=\"abc123\")\u001b[39;00m\n\u001b[1;32m     40\u001b[0m \u001b[38;5;124;03m    \"\"\"\u001b[39;00m\n",
      "File \u001b[0;32m~/Documents/dev/cci-api-demo/venv/lib/python3.8/site-packages/opensearch/results.py:1\u001b[0m, in \u001b[0;36m<module>\u001b[0;34m\u001b[0m\n\u001b[0;32m----> 1\u001b[0m \u001b[38;5;28;01mfrom\u001b[39;00m \u001b[38;5;21;01mopensearch\u001b[39;00m \u001b[38;5;28;01mimport\u001b[39;00m osfeedparser\n\u001b[1;32m      3\u001b[0m \u001b[38;5;28;01mimport\u001b[39;00m \u001b[38;5;21;01mlogging\u001b[39;00m\n\u001b[1;32m      5\u001b[0m logger \u001b[38;5;241m=\u001b[39m logging\u001b[38;5;241m.\u001b[39mgetLogger(\u001b[38;5;18m__name__\u001b[39m)\n",
      "File \u001b[0;32m~/Documents/dev/cci-api-demo/venv/lib/python3.8/site-packages/opensearch/osfeedparser.py:70\u001b[0m, in \u001b[0;36m<module>\u001b[0;34m\u001b[0m\n\u001b[1;32m     67\u001b[0m PREFERRED_TIDY_INTERFACES \u001b[38;5;241m=\u001b[39m [\u001b[38;5;124m\"\u001b[39m\u001b[38;5;124muTidy\u001b[39m\u001b[38;5;124m\"\u001b[39m, \u001b[38;5;124m\"\u001b[39m\u001b[38;5;124mmxTidy\u001b[39m\u001b[38;5;124m\"\u001b[39m]\n\u001b[1;32m     69\u001b[0m \u001b[38;5;66;03m# ---------- required modules (should come with any Python distribution) ----------\u001b[39;00m\n\u001b[0;32m---> 70\u001b[0m \u001b[38;5;28;01mimport\u001b[39;00m \u001b[38;5;21;01msgmllib\u001b[39;00m\u001b[38;5;241m,\u001b[39m \u001b[38;5;21;01mre\u001b[39;00m\u001b[38;5;241m,\u001b[39m \u001b[38;5;21;01msys\u001b[39;00m\u001b[38;5;241m,\u001b[39m \u001b[38;5;21;01mcopy\u001b[39;00m\u001b[38;5;241m,\u001b[39m \u001b[38;5;21;01mtime\u001b[39;00m\u001b[38;5;241m,\u001b[39m \u001b[38;5;21;01mtypes\u001b[39;00m\u001b[38;5;241m,\u001b[39m \u001b[38;5;21;01mcgi\u001b[39;00m\u001b[38;5;241m,\u001b[39m \u001b[38;5;21;01murllib\u001b[39;00m\n\u001b[1;32m     71\u001b[0m \u001b[38;5;28;01mtry\u001b[39;00m:\n\u001b[1;32m     72\u001b[0m     \u001b[38;5;28;01mimport\u001b[39;00m \u001b[38;5;21;01mrfc822\u001b[39;00m\n",
      "\u001b[0;31mModuleNotFoundError\u001b[0m: No module named 'sgmllib'"
     ]
    }
   ],
   "source": [
    "from opensearch import Client\n",
    "\n",
    "client = Client('https://archive.opensearch.ceda.ac.uk/opensearch/description.xml')"
   ]
  },
  {
   "cell_type": "code",
   "execution_count": null,
   "id": "5e340b75-1d37-4cc0-8501-a8039b11a321",
   "metadata": {},
   "outputs": [],
   "source": []
  }
 ],
 "metadata": {
  "kernelspec": {
   "display_name": "Python 3 (ipykernel)",
   "language": "python",
   "name": "python3"
  },
  "language_info": {
   "codemirror_mode": {
    "name": "ipython",
    "version": 3
   },
   "file_extension": ".py",
   "mimetype": "text/x-python",
   "name": "python",
   "nbconvert_exporter": "python",
   "pygments_lexer": "ipython3",
   "version": "3.8.5"
  }
 },
 "nbformat": 4,
 "nbformat_minor": 5
}
