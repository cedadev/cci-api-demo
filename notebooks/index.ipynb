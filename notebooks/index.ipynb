{
 "cells": [
  {
   "cell_type": "markdown",
   "id": "73c76782-2e0c-4c07-a3d6-2335283da612",
   "metadata": {},
   "source": [
    "# CCI API Demo\n",
    "\n",
    "This repository acts to demonstrate API interactions with the [CCI Open Data Portal](https://climate.esa.int/en/explore/access-climate-data/).\n",
    "\n",
    "Contents:\n",
    "- [Opensearch API](cci_opensearch_demo.ipynb)"
   ]
  }
 ],
 "metadata": {
  "kernelspec": {
   "display_name": "Python 3 (ipykernel)",
   "language": "python",
   "name": "python3"
  },
  "language_info": {
   "codemirror_mode": {
    "name": "ipython",
    "version": 3
   },
   "file_extension": ".py",
   "mimetype": "text/x-python",
   "name": "python",
   "nbconvert_exporter": "python",
   "pygments_lexer": "ipython3",
   "version": "3.8.5"
  }
 },
 "nbformat": 4,
 "nbformat_minor": 5
}
