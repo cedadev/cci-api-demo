{
 "cells": [
  {
   "cell_type": "markdown",
   "id": "d51ba105-3b15-426f-b136-872a27052db3",
   "metadata": {},
   "source": [
    "# CCI API Demo"
   ]
  },
  {
   "cell_type": "markdown",
   "id": "b49e40a5-c624-40a5-a4e2-b0cc55571cb3",
   "metadata": {},
   "source": [
    "## Setup"
   ]
  },
  {
   "cell_type": "code",
   "execution_count": null,
   "id": "5ee2c87a-902a-44ee-aa2c-b5f97cbb5b3d",
   "metadata": {},
   "outputs": [],
   "source": [
    "import requests\n",
    "\n",
    "# Import JSON for pretty printing output\n",
    "import json\n",
    "\n",
    "OPENSEARCH_URL = 'https://archive.opensearch.ceda.ac.uk/opensearch'\n",
    "\n",
    "\n",
    "def pprint(input: dict)-> None:\n",
    "    \"\"\"pretty prints a dictionary\"\"\"\n",
    "    \n",
    "    print(json.dumps(input, indent=4))\n",
    "    \n",
    "def get_opensearch_request(url: str) -> requests.models.Response:\n",
    "    \n",
    "    return requests.get(url, headers={'Accept':'application/geo+json'})"
   ]
  },
  {
   "cell_type": "markdown",
   "id": "061ce85c-0796-4321-a46d-d59ddfe58be5",
   "metadata": {},
   "source": [
    "## Take a look at the top level collections"
   ]
  },
  {
   "cell_type": "code",
   "execution_count": null,
   "id": "647805f1-6b4d-438b-8af8-024f3a580190",
   "metadata": {},
   "outputs": [],
   "source": [
    "# Retrieve top level catalog\n",
    "catalogs = get_opensearch_request(f'{OPENSEARCH_URL}/request')\n",
    "print(catalogs.status_code)\n",
    "pprint(catalogs.json())\n"
   ]
  },
  {
   "cell_type": "markdown",
   "id": "a01a32eb-d19d-4d76-9cb3-1805e150c026",
   "metadata": {},
   "source": [
    "## Retrieve the description document for CCI"
   ]
  },
  {
   "cell_type": "code",
   "execution_count": null,
   "id": "afdba2a4-ea9b-4398-969d-7bbd5a2c94d7",
   "metadata": {},
   "outputs": [],
   "source": [
    "# Get first collection\n",
    "first_collection = catalogs.json()['features'][0]\n",
    "\n",
    "# Extract the description URL\n",
    "description_url = first_collection['properties']['links']['search'][0]['href'] \n",
    "cci_description = get_opensearch_request(description_url)\n",
    "\n",
    "import xml.etree.ElementTree as ET\n",
    "osdd = ET.fromstring(cci_description.text)\n",
    "\n",
    "print(osdd.tag,osdd.text)\n",
    "for child in osdd:\n",
    "    print(child.tag, child.attrib, child.text)"
   ]
  },
  {
   "cell_type": "markdown",
   "id": "4d063693-3cfb-4fa8-8944-98d120924dd7",
   "metadata": {},
   "source": [
    "## Take a look at the facets"
   ]
  },
  {
   "cell_type": "code",
   "execution_count": null,
   "id": "dcbe61ba-d4d8-45c9-8647-0f6e506e5adc",
   "metadata": {},
   "outputs": [],
   "source": [
    "#parameters = osdd.findall('./{http://a9.com/-/spec/opensearch/1.1/}Url/{http://a9.com/-/spec/opensearch/extensions/parameters/1.0/}Parameter')\n",
    "\n",
    "# Find geo+json url object\n",
    "geojson_url_node = osdd.findall('.//{http://a9.com/-/spec/opensearch/extensions/parameters/1.0/}Parameter/..[@type=\"application/geo+json\"]')\n",
    "\n",
    "for param in geojson_url_node[0]:\n",
    "    print(param.tag, param.attrib)\n",
    "\n"
   ]
  },
  {
   "cell_type": "code",
   "execution_count": null,
   "id": "f59bc73e-bca4-4dbb-a461-f1926bc077d0",
   "metadata": {},
   "outputs": [],
   "source": [
    "# Take a look at the possible values for ecv\n",
    "\n",
    "ecv_options = geojson_url_node[0].findall('.//{http://a9.com/-/spec/opensearch/extensions/parameters/1.0/}Option/..[@name=\"ecv\"]')\n",
    "\n",
    "for option in ecv_options[0]:\n",
    "    print(option.tag, option.attrib)"
   ]
  },
  {
   "cell_type": "markdown",
   "id": "99b8e296-30c2-434c-9710-40ff501a7cc5",
   "metadata": {},
   "source": [
    "## Make a search using a facet value"
   ]
  },
  {
   "cell_type": "code",
   "execution_count": null,
   "id": "c0db2d9c-afa9-42d0-97f3-f59733ef845d",
   "metadata": {},
   "outputs": [],
   "source": [
    "\n",
    "\n",
    "# Retrieve cci collections\n",
    "r = get_opensearch_request(f'{OPENSEARCH_URL}/request?parentIdentifier=cci&ecv=CLOUD')\n",
    "\n",
    "print(r.status_code)\n",
    "\n",
    "# Display the first collection in the response\n",
    "first_coll = r.json()['features'][0]\n",
    "pprint(first_coll)\n",
    "\n"
   ]
  },
  {
   "cell_type": "code",
   "execution_count": null,
   "id": "37e1d41c-131f-40cc-9339-34139f5ab857",
   "metadata": {},
   "outputs": [],
   "source": [
    "# Show links\n",
    "pprint(first_coll['properties']['links'])\n",
    "\n"
   ]
  },
  {
   "cell_type": "code",
   "execution_count": null,
   "id": "038e5389-28ca-437b-a027-58fa08afdfe9",
   "metadata": {},
   "outputs": [],
   "source": [
    "# Show aggregations\n",
    "pprint(first_coll['properties']['aggregations'])"
   ]
  },
  {
   "cell_type": "markdown",
   "id": "8451b112-f7ba-4a57-b1b2-96127aa88ee6",
   "metadata": {},
   "source": [
    "# Using Aggregations"
   ]
  },
  {
   "cell_type": "code",
   "execution_count": null,
   "id": "295c0d14-6851-43da-a98e-f09f45d70be3",
   "metadata": {},
   "outputs": [],
   "source": []
  }
 ],
 "metadata": {
  "kernelspec": {
   "display_name": "Python 3 + Jaspy",
   "language": "python",
   "name": "jaspy"
  },
  "language_info": {
   "codemirror_mode": {
    "name": "ipython",
    "version": 3
   },
   "file_extension": ".py",
   "mimetype": "text/x-python",
   "name": "python",
   "nbconvert_exporter": "python",
   "pygments_lexer": "ipython3",
   "version": "3.8.12"
  }
 },
 "nbformat": 4,
 "nbformat_minor": 5
}
